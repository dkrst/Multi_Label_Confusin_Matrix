{
 "cells": [
  {
   "cell_type": "code",
   "execution_count": 1,
   "id": "409df7bc-80d3-4845-9264-72bf32a10f37",
   "metadata": {},
   "outputs": [],
   "source": [
    "import numpy as np\n",
    "from mlcevaluator1 import mlcEvaluator1\n",
    "from mlcevaluator2 import mlcEvaluator2\n",
    "from mlctensor import mlcTensor\n",
    "from sklearn.metrics import multilabel_confusion_matrix\n"
   ]
  },
  {
   "cell_type": "markdown",
   "id": "965d74a3-0675-44bd-bc2e-751d737d8c61",
   "metadata": {},
   "source": [
    "## Syntetic example\n",
    "Generate true and predicted labels"
   ]
  },
  {
   "cell_type": "code",
   "execution_count": 173,
   "id": "ec4a6368-9365-4dce-adde-c2e73754d00f",
   "metadata": {},
   "outputs": [
    {
     "data": {
      "text/plain": [
       "\"\\n# Load GT and prediction from file\\ngt=np.load('data/posters/gt.npy')\\npred=np.load('data/posters/pred_t09.npy')\\n\""
      ]
     },
     "execution_count": 173,
     "metadata": {},
     "output_type": "execute_result"
    }
   ],
   "source": [
    "# Example GT and Prediction matrices\n",
    "'''\n",
    "gt=np.asarray([[1,1,0], [1,1,1], [0,0,0],\n",
    "               [1,0,0], [1,1,0], [0,0,0],\n",
    "               [1,0,0], [1,1,0], [1,1,0]])\n",
    "              \n",
    "pred=np.asarray([[1,1,0],[1,0,1],[0,0,0],\n",
    "                 [1,1,1], [1,1,1], [0,1,1],\n",
    "                 [0,1,1], [1,0,1], [0,0,1]])\n",
    "'''\n",
    "\n",
    "'''\n",
    "gt=np.asarray([[1,1,0], [1,0,1], [0,0,1]])              \n",
    "pred=np.asarray([[1,1,0],[1,0,1],[0,0,1]])\n",
    "'''\n",
    "gt=np.asarray([[1,1,1], [1,0,1], [0,0,1]])              \n",
    "pred=np.asarray([[1,1,0],[1,0,1],[0,0,1]])\n",
    "\n",
    "'''\n",
    "# primjer2 - ocu negativan kappa - radi\n",
    "gt=np.asarray([[1,1,0], [1,0,1], [0,0,1]])              \n",
    "pred=np.asarray([[0,0,1],[1,1,1],[1,0,0]])\n",
    "'''\n",
    "'''\n",
    "# primjer3 - ocu negativan kappa\n",
    "gt=np.asarray([[1,1,0], [0,1,0], [0,0,1]])              \n",
    "pred=np.asarray([[0,0,1],[1,0,0],[1,1,0]])\n",
    "'''\n",
    "'''\n",
    "# Load GT and prediction from file\n",
    "gt=np.load('data/posters/gt.npy')\n",
    "pred=np.load('data/posters/pred_t09.npy')\n",
    "'''"
   ]
  },
  {
   "cell_type": "markdown",
   "id": "2ddf8fff-2599-42c9-b92a-d39ff923b000",
   "metadata": {},
   "source": [
    "## Multi-label Confusion Tensor\n",
    "Compute raw Multi-Label Confusion Tensor and normalized Recall and Precision Confusion matrices"
   ]
  },
  {
   "cell_type": "code",
   "execution_count": 174,
   "id": "9006ae89-d146-45f8-932d-05641ca60e10",
   "metadata": {},
   "outputs": [],
   "source": [
    "evalT = mlcTensor(gt, pred)\n",
    "MT = evalT.computeConfusionTensor(unique=True)\n",
    "Rnorm = evalT.getRecall()\n",
    "Pnorm = evalT.getPrecision()"
   ]
  },
  {
   "cell_type": "code",
   "execution_count": 175,
   "id": "d4b9885f-3035-4c7d-856c-0b2cb2b58efa",
   "metadata": {},
   "outputs": [
    {
     "data": {
      "text/plain": [
       "(4, 4)"
      ]
     },
     "execution_count": 175,
     "metadata": {},
     "output_type": "execute_result"
    }
   ],
   "source": [
    "PT.shape"
   ]
  },
  {
   "cell_type": "code",
   "execution_count": 176,
   "id": "5c8cf7fb-fca3-435a-9e1c-ec382cf87045",
   "metadata": {},
   "outputs": [],
   "source": [
    "from utils import show_heatmap\n",
    "labels=['C0', 'C1','C2', 'unkn.']"
   ]
  },
  {
   "cell_type": "markdown",
   "id": "cbe04b66-1ab7-4d5e-aeb2-d1c95a379e09",
   "metadata": {},
   "source": [
    "### Show Recall heatmap"
   ]
  },
  {
   "cell_type": "code",
   "execution_count": 177,
   "id": "78c90f46-0a48-4f97-b7f9-fbb1eff78236",
   "metadata": {},
   "outputs": [
    {
     "data": {
      "image/png": "[encoded data removed]",
      "text/plain": [
       "<Figure size 900x600 with 1 Axes>"
      ]
     },
     "metadata": {},
     "output_type": "display_data"
    }
   ],
   "source": [
    "show_heatmap(Rnorm, labels=labels)"
   ]
  },
  {
   "cell_type": "markdown",
   "id": "427f293a-6a96-44a9-ada9-af443712f122",
   "metadata": {},
   "source": [
    "### Show Precision heatmap"
   ]
  },
  {
   "cell_type": "code",
   "execution_count": 178,
   "id": "d8082f41-bdf6-4a4a-8dc7-76a62f6064d1",
   "metadata": {},
   "outputs": [
    {
     "data": {
      "image/png": "[encoded data removed]",
      "text/plain": [
       "<Figure size 900x600 with 1 Axes>"
      ]
     },
     "metadata": {},
     "output_type": "display_data"
    }
   ],
   "source": [
    "show_heatmap(Pnorm, labels=labels)"
   ]
  },
  {
   "cell_type": "markdown",
   "id": "1c3209bb-c4c6-4897-a8bf-4e0f38bda065",
   "metadata": {},
   "source": [
    "# Moram prominit da objasnim kappa\n",
    "## Evaluating Classifier performance over all labels \n",
    "Let $\\boldsymbol{T}_i$ be the vector representing the set of true labels for data instance $i$ and $\\boldsymbol{P}_i$ be the vector of predicted labels for the same instance. Vectors $\\boldsymbol{T}_{i1}=\\boldsymbol{P}_{i1}=\\boldsymbol{T}_i\\cap \\boldsymbol{P}_i$ represents correctly predicted labels. $\\boldsymbol{T}_{i2}=\\boldsymbol{T}_i\\backslash \\boldsymbol{P}_i$ is a set of true labels not predicted by the classifier, while $\\boldsymbol{P}_{i2} = \\boldsymbol{P}_i\\backslash \\boldsymbol{T}_i$ represents incorrectly predicted labels. It is clear that $\\boldsymbol{T}_i = \\boldsymbol{T}_{i1} + \\boldsymbol{T}_{i1}$ and $\\boldsymbol{P}_i = \\boldsymbol{P}_{i1}+\\boldsymbol{P}_{i2}$.<br>\n",
    " - $TP(k)$ (True Positive) stands for a number of instances with correctly assigned label $k$\n",
    " - $FP(k)$ (False Positive) stands for a number of instances with incorrectly assigned label $k$\n",
    " - $FN(k)$ (False Negative) represents the number of cases where the relevant label $k$ was not assigned to an instance. \n",
    "\n",
    "Let $B(TP(k) , FP(k) , TN(k), FN(k))$ be some specific binary classification metric, $k = 1, ...,q$, where $q$ is the number of possible labels.\n",
    "\n",
    "Label-based classification metrics for a classificator can be obtained using either Macro-averaging or Micro-averaging approach.\n",
    "\n",
    "### Macro-averaging\n",
    "Macro-averaging averages over all  categories, thus giving each category equal weight<br>\n",
    "$B_{Macro} = \\frac{1}{q}\\sum\\limits_{k=1}^q B\\big[ TP(k), FP(k), TN(k), FN(k)\\big]$\n",
    "\n",
    "Macro-averaged Recall and Precision for a classifier can be computed as:<br>\n",
    "$R_{Macro} = \\frac{1}{q}\\sum\\limits_{k=1}^q \\frac{TP(k)}{TP(k)+FN(k)} = \\frac{1}{q}\\sum\\limits_{k=1}^q R(k)$\n",
    "\n",
    "$P_{Macro} = \\frac{1}{q}\\sum\\limits_{k=1}^q \\frac{TP(k)}{TP(k)+FP(k)} = \\frac{1}{q}\\sum\\limits_{k=1}^q P(k)$,\n",
    "\n",
    "where $R(k)$ and $P(k)$ are per-class Recall and Precision."
   ]
  },
  {
   "cell_type": "markdown",
   "id": "73126235-ffea-4e2a-9319-85bbd16c0e06",
   "metadata": {},
   "source": [
    "Compute P expected"
   ]
  },
  {
   "cell_type": "code",
   "execution_count": 179,
   "id": "f5265c8d-6912-48df-af14-1b44e707e94f",
   "metadata": {},
   "outputs": [
    {
     "name": "stdout",
     "output_type": "stream",
     "text": [
      "0.36\n"
     ]
    },
    {
     "data": {
      "text/plain": [
       "\"\\nprint('Classifier Recall:', rClass)\\nprint('Classifier Precision:', pClass)\\n\""
      ]
     },
     "execution_count": 179,
     "metadata": {},
     "output_type": "execute_result"
    }
   ],
   "source": [
    "MR = MT[0,:,:]\n",
    "MP = MT[1,:,:]\n",
    "\n",
    "#print(MR.sum())\n",
    "Pe = 0\n",
    "for k in range(MR.shape[0]):\n",
    "    Pe += MR[k,:].sum() * MP[:,k].sum() / (MR.sum() * MP.sum())\n",
    "\n",
    "print(Pe)\n",
    "      \n",
    "'''\n",
    "print('Classifier Recall:', rClass)\n",
    "print('Classifier Precision:', pClass)\n",
    "'''"
   ]
  },
  {
   "cell_type": "markdown",
   "id": "c628ecf7-e49e-4519-80cb-19130074c93f",
   "metadata": {},
   "source": [
    "Compute P observed"
   ]
  },
  {
   "cell_type": "code",
   "execution_count": 180,
   "id": "515b0165-63ad-4e82-82fc-5a420267feda",
   "metadata": {},
   "outputs": [
    {
     "name": "stdout",
     "output_type": "stream",
     "text": [
      "1.0\n"
     ]
    }
   ],
   "source": [
    "Po = MR.diagonal().sum()*MP.diagonal().sum()/(MR.sum()*MP.sum())\n",
    "print(Po)"
   ]
  },
  {
   "cell_type": "code",
   "execution_count": 181,
   "id": "e50a6aac-a904-4e51-8ed9-30db3e391e7b",
   "metadata": {},
   "outputs": [
    {
     "name": "stdout",
     "output_type": "stream",
     "text": [
      "1.0\n"
     ]
    }
   ],
   "source": [
    "kappa = (Po - Pe)/(1-Pe)\n",
    "print(kappa)"
   ]
  },
  {
   "cell_type": "code",
   "execution_count": null,
   "id": "4e1639e5-f1ca-41c7-a4e3-35e79a3559a0",
   "metadata": {},
   "outputs": [],
   "source": []
  },
  {
   "cell_type": "code",
   "execution_count": null,
   "id": "86ae6b6d-8cf5-428e-98fa-54f13025b75e",
   "metadata": {},
   "outputs": [],
   "source": []
  },
  {
   "cell_type": "code",
   "execution_count": null,
   "id": "07377e4b-3a98-47ab-b219-2f010a2821d9",
   "metadata": {},
   "outputs": [],
   "source": []
  },
  {
   "cell_type": "code",
   "execution_count": null,
   "id": "66507975-c41e-4e4b-ab4d-5581d05ca37f",
   "metadata": {},
   "outputs": [],
   "source": []
  },
  {
   "cell_type": "code",
   "execution_count": null,
   "id": "8f3235c6-73b3-4896-a83e-548a627867b2",
   "metadata": {},
   "outputs": [],
   "source": []
  }
 ],
 "metadata": {
  "kernelspec": {
   "display_name": "Python 3 (ipykernel)",
   "language": "python",
   "name": "python3"
  },
  "language_info": {
   "codemirror_mode": {
    "name": "ipython",
    "version": 3
   },
   "file_extension": ".py",
   "mimetype": "text/x-python",
   "name": "python",
   "nbconvert_exporter": "python",
   "pygments_lexer": "ipython3",
   "version": "3.10.12"
  }
 },
 "nbformat": 4,
 "nbformat_minor": 5
}
